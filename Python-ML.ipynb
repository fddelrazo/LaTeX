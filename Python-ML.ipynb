{
 "cells": [
  {
   "cell_type": "markdown",
   "metadata": {
    "button": false,
    "new_sheet": false,
    "run_control": {
     "read_only": false
    }
   },
   "source": [
    "<p style=\"text-align:center\">\n",
    "    <a href=\"http://www.ittoluca.edu.mx\" target=\"_blank\">\n",
    "    <img src=\"figures/escudoITTol.png\" width=\"100\" align=\"left\" />\n",
    "    </a>\n",
    "</p>\n",
    "\n",
    "# Python for Machine Learning"
   ]
  },
  {
   "cell_type": "markdown",
   "metadata": {
    "button": false,
    "new_sheet": false,
    "run_control": {
     "read_only": false
    }
   },
   "source": [
    "<p style=\"text-align:center\">\n",
    "    <a href=\"https://pythonnumericalmethods.berkeley.edu/notebooks/Index.html\" target=\"_blank\">\n",
    "    <img src=\"figures/pythonProgrammingNumericalMethods_cover.jpg\" width=\"50\" align=\"right\" />\n",
    "    </a>\n",
    "</p>\n",
    "\n",
    "## Python Programming And Numerical Methods: A Guide For Engineers And Scientists \n",
    "[Online Book][PYTHON] under the [MIT licence][MIT-LICENCE]\n",
    "\n",
    "\n",
    "[PYTHON]:<https://pythonnumericalmethods.berkeley.edu/notebooks/Index.html>\n",
    "[MIT-LICENCE]: <https://opensource.org/licenses/MIT>"
   ]
  },
  {
   "cell_type": "markdown",
   "metadata": {
    "button": false,
    "new_sheet": false,
    "run_control": {
     "read_only": false
    }
   },
   "source": [
    "<details><summary>Table of contents</summary>\n",
    "<div class=\"alert alert-block alert-info\" style=\"margin-top: 10px\">\n",
    "    <ol>\n",
    "        <li> Python Basics: <a href=\"https://pythonnumericalmethods.berkeley.edu/notebooks/chapter01.00-Python-Basics.html#\">📖</a> / <a href='./Ch01-PythonBasics.ipynb'>🏃🏻🏃🏻‍♀️</a></li>\n",
    "        <li><a href=\"https://pythonnumericalmethods.berkeley.edu/notebooks/chapter02.00-Variables-and-Basic-Data-Structures.html\">Variables and Basic Data Structures</a></li>\n",
    "        <li><a href=\"https://pythonnumericalmethods.berkeley.edu/notebooks/chapter03.00-Functions.html\">Functions</a></li>\n",
    "        <li><a href=\"https://pythonnumericalmethods.berkeley.edu/notebooks/chapter04.00-Branching-Statements.html\">Branching Statements</a></li>\n",
    "        <li><a href=\"https://pythonnumericalmethods.berkeley.edu/notebooks/chapter05.00-Iteration.html\">Iteration</a></li>\n",
    "        <li><a href=\"https://pythonnumericalmethods.berkeley.edu/notebooks/chapter06.00-Recursion.html\">Recursion</a></li>  \n",
    "        <li><a href=\"https://pythonnumericalmethods.berkeley.edu/notebooks/chapter07.00-Object-Oriented-Programming.html\">Object Oriented Programming (OOP)</a></li>\n",
    "        <li><a href=\"https://pythonnumericalmethods.berkeley.edu/notebooks/chapter08.00-Complexity.html\">Complexity</a></li>  \n",
    "        <li><a href=\"https://pythonnumericalmethods.berkeley.edu/notebooks/chapter09.00-Representation-of-Numbers.html\">Representation of Numbers </a></li>\n",
    "        <li><a href=\"https://pythonnumericalmethods.berkeley.edu/notebooks/chapter10.00-Errors-Practices-Debugging.html\">Errors, Good Programming Practices, and Debugging</a></li>  \n",
    "        <li><a href=\"https://pythonnumericalmethods.berkeley.edu/notebooks/chapter11.00-Reading-and-Writing-Data.html\">Reading and Writing Data</a></li>\n",
    "        <li><a href=\"https://pythonnumericalmethods.berkeley.edu/notebooks/chapter12.00-Visualization-and-Plotting.html\">Visualization and Plotting</a></li>  \n",
    "        <li><a href=\"https://pythonnumericalmethods.berkeley.edu/notebooks/chapter13.00-Parallel-Your-Python.html\">Parallel Your Python</a></li>\n",
    "        <li><a href=\"https://pythonnumericalmethods.berkeley.edu/notebooks/chapter14.00-Linear-Algebra-and-Systems-of-Linear-Equations.html\">Linear Algebra and Systems of Linear Equations </a></li>  \n",
    "        <li><a href=\"https://pythonnumericalmethods.berkeley.edu/notebooks/chapter15.00-Eigenvalues-and-Eigenvectors.html\">Eigenvalues and Eigenvectors </a></li>\n",
    "        <li><a href=\"https://pythonnumericalmethods.berkeley.edu/notebooks/chapter16.00-Least-Squares-Regression.html\">Least Squares Regression </a></li>  \n",
    "        <li><a href=\"https://pythonnumericalmethods.berkeley.edu/notebooks/chapter17.00-Interpolation.html\">Interpolation</a></li>       \n",
    "        <li><a href=\"https://pythonnumericalmethods.berkeley.edu/notebooks/chapter18.00-Series.html\">Series</a></li>          \n",
    "        <li><a href=\"https://pythonnumericalmethods.berkeley.edu/notebooks/chapter19.00-Root-Finding.html\">Root Finding</a></li>  \n",
    "        <li><a href=\"https://pythonnumericalmethods.berkeley.edu/notebooks/chapter20.00-Numerical-Differentiation.html\">Numerical Differentiation</a></li>\n",
    "        <li><a href=\"https://pythonnumericalmethods.berkeley.edu/notebooks/chapter21.00-Numerical-Integration.html\">Numerical Integration</a></li>  \n",
    "        <li><a href=\"https://pythonnumericalmethods.berkeley.edu/notebooks/chapter22.00-ODE-Initial-Value-Problems.html\">Ordinary Differential Equation - Initial Value Problems</a></li>\n",
    "        <li><a href=\"https://pythonnumericalmethods.berkeley.edu/notebooks/chapter23.00-ODE-Boundary-Value-Problems.html\">Ordinary Differential Equation - Boundary Value Problems</a></li>  \n",
    "        <li><a href=\"https://pythonnumericalmethods.berkeley.edu/notebooks/chapter24.00-Fourier-Transforms.html\">Fourier Transform</a></li>\n",
    "        <li><a href=\"https://pythonnumericalmethods.berkeley.edu/notebooks/chapter25.00-Introduction-to-Machine-Learning.html\">Introduction to Machine Learning</a></li>  \n",
    "        <li><a href=\"https://pythonnumericalmethods.berkeley.edu/notebooks/Appendix01-Getting-Started-with-Python-Windows.html#\">Appendix A. Getting Started with Python on Windows</a></li>        \n",
    "    </ol>\n",
    "</div>\n",
    "</details>"
   ]
  },
  {
   "cell_type": "markdown",
   "metadata": {
    "button": false,
    "new_sheet": false,
    "run_control": {
     "read_only": false
    }
   },
   "source": [
    "<p style=\"text-align:center\">\n",
    "    <a href=\"https://nbviewer.org/gist/rpmuller/5920182\" target=\"_blank\">\n",
    "    <img src=\"figures/jupiterNotebook.jpg\" width=\"50\" align=\"right\" />\n",
    "    </a>\n",
    "</p>\n",
    "\n",
    "## A Crash Course in Python for Scientists\n",
    "[Notebook][SCI-PYTHON] from GitHub\n",
    "\n",
    "[SCI-PYTHON]:<https://nbviewer.org/gist/rpmuller/5920182>"
   ]
  },
  {
   "cell_type": "markdown",
   "metadata": {
    "button": false,
    "new_sheet": false,
    "run_control": {
     "read_only": false
    }
   },
   "source": [
    "<p style=\"text-align:center\">\n",
    "    <a href=\"https://github.com/jrjohansson/scientific-python-lectures\" target=\"_blank\">\n",
    "    <img src=\"figures/jupiterNotebook.jpg\" width=\"50\" align=\"right\" />\n",
    "    </a>\n",
    "</p>\n",
    "\n",
    "## Lectures on scientific computing with Python\n",
    "[Notebook][LECT-PYTHON] from GitHub\n",
    "\n",
    "[LECT-PYTHON]:<https://github.com/jrjohansson/scientific-python-lectures>"
   ]
  },
  {
   "cell_type": "markdown",
   "metadata": {
    "button": false,
    "new_sheet": false,
    "run_control": {
     "read_only": false
    }
   },
   "source": [
    "<p style=\"text-align:center\">\n",
    "    <a href=\"http://jrjohansson.github.io/numericalpython.html\" target=\"_blank\">\n",
    "    <img src=\"figures/numericalpython-cover.jpg\" width=\"50\" align=\"right\" />\n",
    "    </a>\n",
    "</p>\n",
    "\n",
    "## Numerical Python: A Practical Techniques Approach for Industry\n",
    "[Online Book][NUM-PYTHON] from GitHub \n",
    "\n",
    "[NUM-PYTHON]:<http://jrjohansson.github.io/numericalpython.html>"
   ]
  },
  {
   "cell_type": "markdown",
   "metadata": {
    "button": false,
    "new_sheet": false,
    "run_control": {
     "read_only": false
    }
   },
   "source": [
    "<p style=\"text-align:center\">\n",
    "    <a href=\"https://www.deeplearningbook.org\" target=\"_blank\">\n",
    "    <img src=\"figures/DeepLearning.jpg\" width=\"50\" align=\"right\" />\n",
    "    </a>\n",
    "</p>\n",
    "\n",
    "## Deep Learning\n",
    "[Online Book][DEEP-LEARNING] from GitHub \n",
    "\n",
    "[DEEP-LEARNING]:<https://www.deeplearningbook.org>"
   ]
  },
  {
   "cell_type": "markdown",
   "metadata": {
    "button": false,
    "new_sheet": false,
    "run_control": {
     "read_only": false
    }
   },
   "source": [
    "<p style=\"text-align:center\">\n",
    "    <a href=\"https://github.com/AllenDowney/ThinkDSP\" target=\"_blank\">\n",
    "    <img src=\"figures/ThinkDSP.png\" width=\"50\" align=\"right\" />\n",
    "    </a>\n",
    "</p>\n",
    "\n",
    "## Think DSP is an introduction to Digital Signal Processing in Python.\n",
    "[Online Book][DSP] from GitHub \n",
    "\n",
    "[DSP]:<https://github.com/AllenDowney/ThinkDSP>"
   ]
  },
  {
   "cell_type": "markdown",
   "metadata": {
    "button": false,
    "new_sheet": false,
    "run_control": {
     "read_only": false
    }
   },
   "source": [
    "<p style=\"text-align:center\">\n",
    "    <a href=\"https://github.com/AllenDowney/ThinkDSP\" target=\"_blank\">\n",
    "    <img src=\"figures/HAL.png\" width=\"50\" align=\"right\" />\n",
    "    </a>\n",
    "</p>\n",
    "\n",
    "## Statistics and Machine Learning in Python.\n",
    "[PDF][STAT-ML-PYTHON] from HAL \n",
    "\n",
    "[STAT-ML-PYTHON]:<https://hal.science/hal-03038776/document>"
   ]
  },
  {
   "cell_type": "code",
   "execution_count": null,
   "metadata": {},
   "outputs": [],
   "source": []
  }
 ],
 "metadata": {
  "kernelspec": {
   "display_name": "Python 3 (ipykernel)",
   "language": "python",
   "name": "python3"
  },
  "language_info": {
   "codemirror_mode": {
    "name": "ipython",
    "version": 3
   },
   "file_extension": ".py",
   "mimetype": "text/x-python",
   "name": "python",
   "nbconvert_exporter": "python",
   "pygments_lexer": "ipython3",
   "version": "3.11.2"
  },
  "widgets": {
   "state": {},
   "version": "1.1.2"
  }
 },
 "nbformat": 4,
 "nbformat_minor": 4
}
